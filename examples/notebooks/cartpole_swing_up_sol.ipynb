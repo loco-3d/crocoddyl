{
 "cells": [
  {
   "attachments": {
    "image.png": {
     "image/png": "[encoded data removed]"
    }
   },
   "cell_type": "markdown",
   "metadata": {},
   "source": [
    "# Cartpole optimal control problem\n",
    "\n",
    "![image.png](attachment:image.png)\n",
    "\n",
    "A cartpole is another classical example of control. In this system, an underactuated pole is attached on top of a 1D actuacted cart. The game is to raise the pole to a standing position.\n",
    "\n",
    "The model is here:\n",
    "https://en.wikipedia.org/wiki/Inverted_pendulum\n",
    "\n",
    "We denote by $m_1$ the cart mass, $m_2$ the pole mass, $l$ the pole length, $\\theta$ the pole angle w.r.t. the vertical axis, $x$ the cart position, and $g=$9.81 the gravity.\n",
    "\n",
    "The system acceleration can be rewritten as:\n",
    "\n",
    "$$\\ddot{\\theta} = \\frac{1}{\\mu(\\theta)} \\big( \\frac{\\cos \\theta}{l} f + \\frac{mg}{l} \\sin(\\theta) - m_2 \\cos(\\theta) \\sin(\\theta) \\dot{\\theta}^2\\big),$$\n",
    "\n",
    "$$\\ddot{x} = \\frac{1}{\\mu(\\theta)} \\big( f + m_2 \\cos(\\theta) \\sin(\\theta) g -m_2 l \\sin(\\theta) \\dot{\\theta} \\big),$$\n",
    "\n",
    "$\\hspace{12em}$with $$\\mu(\\theta) = m_1+m_2 \\sin(\\theta)^2,$$\n",
    "\n",
    "where $f$ represents the input command.\n"
   ]
  },
  {
   "cell_type": "markdown",
   "metadata": {},
   "source": [
    "## I. Differential Action Model\n",
    "\n",
    "A Differential Action Model (DAM) describes the action (control/dynamics) in continous-time. In this exercise, we ask you to write the equation of motions for the cartpole.\n",
    "\n",
    "For more details, see the instructions inside the DifferentialActionModelCartpole class."
   ]
  },
  {
   "cell_type": "code",
   "execution_count": null,
   "metadata": {},
   "outputs": [],
   "source": [
    "import crocoddyl\n",
    "import pinocchio\n",
    "import numpy as np\n",
    "\n",
    "class DifferentialActionModelCartpole(crocoddyl.DifferentialActionModelAbstract):\n",
    "    def __init__(self):\n",
    "        crocoddyl.DifferentialActionModelAbstract.__init__(self, crocoddyl.StateVector(4), 1, 6) # nu = 1; nr = 6\n",
    "        self.unone = np.zeros(self.nu)\n",
    "\n",
    "        self.m1 = 1.\n",
    "        self.m2 = .1\n",
    "        self.l  = .5\n",
    "        self.g  = 9.81\n",
    "        self.costWeights = [ 1., 1., 0.1, 0.001, 0.001, 1. ]  # sin, 1-cos, x, xdot, thdot, f\n",
    "        \n",
    "    def calc(self, data, x, u=None):\n",
    "        if u is None: u=model.unone\n",
    "        # Getting the state and control variables\n",
    "        y, th, ydot, thdot = np.asscalar(x[0]), np.asscalar(x[1]), np.asscalar(x[2]), np.asscalar(x[3])\n",
    "        f = np.asscalar(u[0])\n",
    "\n",
    "        # Shortname for system parameters\n",
    "        m1, m2, l, g = self.m1, self.m2, self.l, self.g\n",
    "        s, c = np.sin(th), np.cos(th)\n",
    "\n",
    "        # Defining the equation of motions\n",
    "        m = m1 + m2\n",
    "        mu = m1 + m2 * s**2\n",
    "        xddot  = (f     + m2 * c * s * g - m2 * l * s * thdot**2 ) / mu\n",
    "        thddot = (c * f / l + m * g * s / l  - m2 * c * s * thdot**2 ) / mu\n",
    "        data.xout = np.matrix([ xddot,thddot ]).T\n",
    "\n",
    "        # Computing the cost residual and value\n",
    "        data.r = np.matrix(self.costWeights * np.array([ s, 1-c, y, ydot, thdot, f ])).T\n",
    "        data.cost = .5* np.asscalar(sum(np.asarray(data.r)**2))\n",
    "\n",
    "    def calcDiff(self,data,x,u=None,recalc=True):\n",
    "        # Advance user might implement the derivatives\n",
    "        pass"
   ]
  },
  {
   "cell_type": "markdown",
   "metadata": {},
   "source": [
    "You may want to check your computation. Here is how to create the model and run the calc method."
   ]
  },
  {
   "cell_type": "code",
   "execution_count": null,
   "metadata": {},
   "outputs": [],
   "source": [
    "cartpoleDAM = DifferentialActionModelCartpole()\n",
    "cartpoleData = cartpoleDAM.createData()\n",
    "x = cartpoleDAM.state.rand()\n",
    "u = np.zeros(1)\n",
    "cartpoleDAM.calc(cartpoleData, x, u)"
   ]
  },
  {
   "cell_type": "markdown",
   "metadata": {},
   "source": [
    "## II. Write the derivatives with DAMNumDiff\n",
    "\n",
    "In the previous exercise, we didn't define the derivatives of the cartpole system. In crocoddyl, we can compute them without any additional code thanks to the DifferentialActionModelNumDiff class. This class computes the derivatives through numerical differentiation.\n",
    "\n",
    "In the following cell, you need to create a cartpole DAM that computes the derivates using NumDiff."
   ]
  },
  {
   "cell_type": "code",
   "execution_count": null,
   "metadata": {},
   "outputs": [],
   "source": [
    "# Creating the cartpole DAM\n",
    "cartpoleND = crocoddyl.DifferentialActionModelNumDiff(cartpoleDAM, True)"
   ]
  },
  {
   "cell_type": "markdown",
   "metadata": {},
   "source": [
    "After creating your cartpole DAM with NumDiff. We would like that you answer the follows:\n",
    "\n",
    " - 2 columns of Fx are null. Wich ones? Why?\n",
    "\n",
    " - can you double check the values of Fu?\n"
   ]
  },
  {
   "cell_type": "markdown",
   "metadata": {},
   "source": [
    "## III. Integrate the model\n",
    "\n",
    "After creating DAM for the cartpole system. We need to create an Integrated Action Model (IAM). Remenber that an IAM converts the continuos-time action model into a discrete-time action model. For this exercise we'll use a simpletic Euler integrator."
   ]
  },
  {
   "cell_type": "code",
   "execution_count": null,
   "metadata": {},
   "outputs": [],
   "source": [
    "timeStep = 5e-2\n",
    "cartpoleIAM = crocoddyl.IntegratedActionModelEuler(cartpoleND, timeStep)"
   ]
  },
  {
   "cell_type": "markdown",
   "metadata": {},
   "source": [
    "## IV. Write the problem, create the solver\n",
    "\n",
    "First, you need to describe your shooting problem. For that, you have to indicate the number of knots and their time step. For this exercise we want to use 50 knots with $dt=$5e-2.\n",
    "\n",
    "Here is how we create the problem."
   ]
  },
  {
   "cell_type": "code",
   "execution_count": null,
   "metadata": {},
   "outputs": [],
   "source": [
    "# Fill the number of knots (T) and the time step (dt)\n",
    "x0 = np.matrix([ 0., 3.14, 0., 0. ]).T\n",
    "T  = 50\n",
    "problem = crocoddyl.ShootingProblem(x0, [ cartpoleIAM ]*T, cartpoleIAM)"
   ]
  },
  {
   "cell_type": "markdown",
   "metadata": {},
   "source": [
    "Problem cannot solve, just integrate:"
   ]
  },
  {
   "cell_type": "code",
   "execution_count": null,
   "metadata": {},
   "outputs": [],
   "source": [
    "us = [ pinocchio.utils.zero(cartpoleIAM.differential.nu) ]*T\n",
    "xs = problem.rollout(us)"
   ]
  },
  {
   "cell_type": "markdown",
   "metadata": {},
   "source": [
    "In cartpole_utils, we provite a plotCartpole and a animateCartpole methods."
   ]
  },
  {
   "cell_type": "code",
   "execution_count": null,
   "metadata": {},
   "outputs": [],
   "source": [
    "%%capture\n",
    "%matplotlib inline\n",
    "from cartpole_utils import animateCartpole\n",
    "anim = animateCartpole(xs)\n",
    "\n",
    "# If you encounter problems probably you need to install ffmpeg/libav-tools:\n",
    "# sudo apt-get install ffmpeg\n",
    "# or\n",
    "# sudo apt-get install libav-tools"
   ]
  },
  {
   "cell_type": "markdown",
   "metadata": {},
   "source": [
    "And let's display this rollout!\n",
    "\n",
    "Note that to_jshtml spawns the video control commands."
   ]
  },
  {
   "cell_type": "code",
   "execution_count": null,
   "metadata": {},
   "outputs": [],
   "source": [
    "from IPython.display import HTML\n",
    "# HTML(anim.to_jshtml())\n",
    "HTML(anim.to_html5_video())"
   ]
  },
  {
   "cell_type": "markdown",
   "metadata": {},
   "source": [
    "Now we want to create the solver (SolverDDP class) and run it. Display the result. **Do you like it?**"
   ]
  },
  {
   "cell_type": "code",
   "execution_count": null,
   "metadata": {},
   "outputs": [],
   "source": [
    "# Creating the DDP solver\n",
    "ddp = crocoddyl.SolverDDP(problem)\n",
    "ddp.setCallbacks([crocoddyl.CallbackVerbose()])\n",
    "\n",
    "# Solving this problem\n",
    "done = ddp.solve([], [], 1000)\n",
    "print done\n",
    "print ddp.us"
   ]
  },
  {
   "cell_type": "code",
   "execution_count": null,
   "metadata": {
    "scrolled": true
   },
   "outputs": [],
   "source": [
    "%%capture\n",
    "%matplotlib inline\n",
    "\n",
    "# Create animation\n",
    "anim = animateCartpole(ddp.xs)"
   ]
  },
  {
   "cell_type": "code",
   "execution_count": null,
   "metadata": {},
   "outputs": [],
   "source": [
    "# HTML(anim.to_jshtml())\n",
    "HTML(anim.to_html5_video())"
   ]
  },
  {
   "cell_type": "markdown",
   "metadata": {},
   "source": [
    "## Tune the problem, solve it\n",
    "\n",
    "Give some indication about what should be tried for solving the problem.\n",
    "\n",
    "\n",
    " - Without a terminal model, we can see some swings but we cannot stabilize. What should we do?\n",
    "\n",
    " - The most important is to reach the standing position. Can we also nullify the velocity?\n",
    "\n",
    " - Increasing all the weights is not working. How to slowly increase the penalty?\n",
    "\n"
   ]
  },
  {
   "cell_type": "code",
   "execution_count": null,
   "metadata": {},
   "outputs": [],
   "source": [
    "###########################################################################\n",
    "################## TODO: Tune the weights for each cost ###################\n",
    "###########################################################################\n",
    "terminalCartpole = DifferentialActionModelCartpole()\n",
    "terminalCartpoleDAM = crocoddyl.DifferentialActionModelNumDiff(terminalCartpole, True)\n",
    "terminalCartpoleIAM = crocoddyl.IntegratedActionModelEuler(terminalCartpoleDAM)\n",
    "\n",
    "terminalCartpole.costWeights[0] = 100\n",
    "terminalCartpole.costWeights[1] = 100\n",
    "terminalCartpole.costWeights[2] = 1.\n",
    "terminalCartpole.costWeights[3] = 0.1\n",
    "terminalCartpole.costWeights[4] = 0.01\n",
    "terminalCartpole.costWeights[5] = 0.0001\n",
    "problem = crocoddyl.ShootingProblem(x0, [ cartpoleIAM ]*T, terminalCartpoleIAM)"
   ]
  },
  {
   "cell_type": "code",
   "execution_count": null,
   "metadata": {},
   "outputs": [],
   "source": [
    "# Creating the DDP solver\n",
    "ddp = crocoddyl.SolverDDP(problem)\n",
    "ddp.setCallbacks([ crocoddyl.CallbackVerbose() ])\n",
    "\n",
    "# Solving this problem\n",
    "done = ddp.solve([], [], 300)\n",
    "print done"
   ]
  },
  {
   "cell_type": "code",
   "execution_count": null,
   "metadata": {},
   "outputs": [],
   "source": [
    "%%capture\n",
    "%matplotlib inline\n",
    "\n",
    "# Create animation\n",
    "anim = animateCartpole(ddp.xs)"
   ]
  },
  {
   "cell_type": "code",
   "execution_count": null,
   "metadata": {
    "scrolled": true
   },
   "outputs": [],
   "source": [
    "# HTML(anim.to_jshtml())\n",
    "HTML(anim.to_html5_video())"
   ]
  }
 ],
 "metadata": {
  "kernelspec": {
   "display_name": "Python 2",
   "language": "python",
   "name": "python2"
  },
  "language_info": {
   "codemirror_mode": {
    "name": "ipython",
    "version": 2
   },
   "file_extension": ".py",
   "mimetype": "text/x-python",
   "name": "python",
   "nbconvert_exporter": "python",
   "pygments_lexer": "ipython2",
   "version": "2.7.17"
  }
 },
 "nbformat": 4,
 "nbformat_minor": 2
}
